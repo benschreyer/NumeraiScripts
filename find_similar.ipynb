{
 "cells": [
  {
   "cell_type": "code",
   "execution_count": 34,
   "metadata": {},
   "outputs": [],
   "source": [
    "import numerapi\r\n",
    "import requests\r\n",
    "\r\n",
    "#look at the /look_back_rounds/ most recent rounds and compute distance squared from your model for correlation vectors, find the lowest distance between your model and another in the top \\leaderboard_count\\ models excluding any \\banned_models\\\r\n",
    "leaderboard_count = 1000\r\n",
    "look_back_rounds = 5\r\n",
    "model = \"benschailr_low\"\r\n",
    "banned_models = [\"benschailr_high\",\"bensch_a\"]"
   ]
  },
  {
   "cell_type": "code",
   "execution_count": 38,
   "metadata": {},
   "outputs": [
    {
     "name": "stdout",
     "output_type": "stream",
     "text": [
      "benben11\n"
     ]
    }
   ],
   "source": [
    "lowest_square_distance_name = numerapi.NumerAPI().get_leaderboard(1)[0][\"username\"]\r\n",
    "lowest_square_distance_value = 1000000000000000000000000000\r\n",
    "print(lowest_square_distance_name)\r\n",
    "responseModel = requests.get(\"https://api-tournament.numer.ai/?query={v2UserProfile(username:\\\"\"+ model +\"\\\"){latestRoundPerformances{correlation}}}\").json()['data']['v2UserProfile']['latestRoundPerformances']\r\n",
    "for user in numerapi.NumerAPI().get_leaderboard(leaderboard_count):\r\n",
    "    \r\n",
    "    if(user[\"username\"] in banned_models):\r\n",
    "        continue\r\n",
    "    distance_square = 0\r\n",
    "    response = requests.get(\"https://api-tournament.numer.ai/?query={v2UserProfile(username:\\\"\"+ user[\"username\"] +\"\\\"){latestRoundPerformances{correlation}}}\").json()['data']['v2UserProfile']['latestRoundPerformances']\r\n",
    "    for i in range(look_back_rounds):\r\n",
    "        other = response[-1 - i][\"correlation\"]\r\n",
    "        if(other == None):\r\n",
    "            other = 1000\r\n",
    "        distance_square += (other - responseModel[-1-i][\"correlation\"])**2\r\n",
    "    if distance_square < lowest_square_distance_value:\r\n",
    "        lowest_square_distance_value = distance_square\r\n",
    "        lowest_square_distance_name = user[\"username\"]\r\n",
    "\r\n"
   ]
  },
  {
   "cell_type": "code",
   "execution_count": 39,
   "metadata": {},
   "outputs": [
    {
     "name": "stdout",
     "output_type": "stream",
     "text": [
      "houshou 0.0018915579194461515\n"
     ]
    }
   ],
   "source": [
    "print(lowest_square_distance_name,lowest_square_distance_value)"
   ]
  }
 ],
 "metadata": {
  "kernelspec": {
   "display_name": "Python 3.8.2 64-bit",
   "name": "python382jvsc74a57bd01baa965d5efe3ac65b79dfc60c0d706280b1da80fedb7760faf2759126c4f253"
  },
  "language_info": {
   "codemirror_mode": {
    "name": "ipython",
    "version": 3
   },
   "file_extension": ".py",
   "mimetype": "text/x-python",
   "name": "python",
   "nbconvert_exporter": "python",
   "pygments_lexer": "ipython3",
   "version": "3.8.2"
  },
  "metadata": {
   "interpreter": {
    "hash": "1baa965d5efe3ac65b79dfc60c0d706280b1da80fedb7760faf2759126c4f253"
   }
  },
  "orig_nbformat": 2
 },
 "nbformat": 4,
 "nbformat_minor": 2
}